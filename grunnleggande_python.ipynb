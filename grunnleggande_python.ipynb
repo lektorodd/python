{
 "cells": [
  {
   "cell_type": "markdown",
   "id": "40a9ac29-3cdf-4356-9c1a-6ee2c29a7caa",
   "metadata": {},
   "source": [
    "# Grunnleggande python\n",
    "\n",
    "Bla bla\n"
   ]
  },
  {
   "cell_type": "code",
   "execution_count": 1,
   "id": "775d57ea-6f22-4c69-9302-648197ec3394",
   "metadata": {},
   "outputs": [
    {
     "name": "stdout",
     "output_type": "stream",
     "text": [
      "7\n"
     ]
    }
   ],
   "source": [
    "a = 3\n",
    "b = 4\n",
    "\n",
    "print(a+b)"
   ]
  },
  {
   "cell_type": "code",
   "execution_count": null,
   "id": "c956723b-dc7e-4dae-babf-2962d59b04bd",
   "metadata": {},
   "outputs": [],
   "source": []
  }
 ],
 "metadata": {
  "kernelspec": {
   "display_name": "Python 3 (ipykernel)",
   "language": "python",
   "name": "python3"
  },
  "language_info": {
   "codemirror_mode": {
    "name": "ipython",
    "version": 3
   },
   "file_extension": ".py",
   "mimetype": "text/x-python",
   "name": "python",
   "nbconvert_exporter": "python",
   "pygments_lexer": "ipython3",
   "version": "3.8.12"
  }
 },
 "nbformat": 4,
 "nbformat_minor": 5
}
