{
 "cells": [
  {
   "cell_type": "markdown",
   "id": "c88f4e2b-e8e6-4416-9e2e-0561aa1ce3db",
   "metadata": {
    "tags": []
   },
   "source": [
    "# Andre bibliotek"
   ]
  },
  {
   "cell_type": "markdown",
   "id": "946a65ed-cf3b-4b1e-8afb-45748d3cad2c",
   "metadata": {
    "tags": []
   },
   "source": [
    "Her er ein guide til korleis du kan installera andre bibliotek (som ikkje ligg i Anaconda-pakken). \n",
    "\n",
    ":::{important}\n",
    "`myst_dmath_enable=True` and `myst_amsmath_enable=True` are deprecated, and replaced by `myst_enable_extensions = [\"dollarmath\", \"amsmath\"]`\n",
    ":::\n",
    "\n",
    "\n",
    "\n",
    "Test"
   ]
  },
  {
   "cell_type": "markdown",
   "id": "1a4fc132-1575-4434-b68d-acc3bc3e8b66",
   "metadata": {
    "tags": []
   },
   "source": [
    "## Geopandas\n",
    "\n",
    "**Dokumentasjon:** https://geopandas.org/en/stable/\n",
    "\n",
    "Meir her.\n",
    "\n",
    "## Seaborn\n",
    "\n",
    "**Dokumentasjon:** https://seaborn.pydata.org/\n",
    "\n",
    "Meir her."
   ]
  },
  {
   "cell_type": "code",
   "execution_count": null,
   "id": "a991f53b-d50b-40ec-a2de-81a49d28a5b8",
   "metadata": {},
   "outputs": [],
   "source": []
  }
 ],
 "metadata": {
  "kernelspec": {
   "display_name": "Python 3 (ipykernel)",
   "language": "python",
   "name": "python3"
  },
  "language_info": {
   "codemirror_mode": {
    "name": "ipython",
    "version": 3
   },
   "file_extension": ".py",
   "mimetype": "text/x-python",
   "name": "python",
   "nbconvert_exporter": "python",
   "pygments_lexer": "ipython3",
   "version": "3.8.12"
  }
 },
 "nbformat": 4,
 "nbformat_minor": 5
}
